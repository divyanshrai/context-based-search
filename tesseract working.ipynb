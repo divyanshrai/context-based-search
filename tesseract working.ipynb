{
 "cells": [
  {
   "cell_type": "code",
   "execution_count": 2,
   "metadata": {},
   "outputs": [],
   "source": [
    "import pytesseract\n",
    "import cv2\n",
    "import matplotlib.pyplot as plt\n",
    "import os\n",
    "import nltk"
   ]
  },
  {
   "cell_type": "code",
   "execution_count": 3,
   "metadata": {},
   "outputs": [],
   "source": [
    "from nltk import word_tokenize"
   ]
  },
  {
   "cell_type": "code",
   "execution_count": 4,
   "metadata": {},
   "outputs": [],
   "source": [
    "directory=\"D:/Hacks/\"\n",
    "x=os.listdir(directory)"
   ]
  },
  {
   "cell_type": "code",
   "execution_count": 5,
   "metadata": {},
   "outputs": [
    {
     "data": {
      "text/plain": [
       "['Capture.PNG',\n",
       " 'Intel scene classification',\n",
       " 'ln2sql-master',\n",
       " 'ln2sql-master.zip',\n",
       " 'nlp1.jpg',\n",
       " 'nlp1.PNG',\n",
       " 'nlp2.jpg',\n",
       " 'nlp2.PNG',\n",
       " 'nlp3.PNG',\n",
       " 'Previous hacks',\n",
       " 'Reimbursement',\n",
       " 'train',\n",
       " 'Wehack3']"
      ]
     },
     "execution_count": 5,
     "metadata": {},
     "output_type": "execute_result"
    }
   ],
   "source": [
    "x"
   ]
  },
  {
   "cell_type": "code",
   "execution_count": null,
   "metadata": {},
   "outputs": [],
   "source": []
  },
  {
   "cell_type": "code",
   "execution_count": 7,
   "metadata": {},
   "outputs": [
    {
     "data": {
      "text/plain": [
       "'| Seat riot\\n=ipacemsea\\n\\n    \\n\\n \\n\\n \\n\\neee\\naaa\\n=e\\nane e\\nneem cae\\nPops Sh\\nSei\\npent\\nanes\\ncae\\nee)\\naceite et\\nree\\nscecaresenteretiman\\ncere oramanc geet\\nemma\\n\\n‘Trevelerstes an eh ortonus'"
      ]
     },
     "execution_count": 7,
     "metadata": {},
     "output_type": "execute_result"
    }
   ],
   "source": [
    "img=cv2.imread(directory+\"nlp1.png\")\n",
    "result = pytesseract.image_to_string(img, lang=\"eng\")\n",
    "result"
   ]
  },
  {
   "cell_type": "code",
   "execution_count": 8,
   "metadata": {},
   "outputs": [
    {
     "data": {
      "text/plain": [
       "'Oz\\n\\n‘rekindle his passion fo the German ike\\ntie tracing plturesque king al\\n\\n{he mountains of Sitzerand. sa near\\nprecise rendering ofthe traveogve 25\\nSeitheip book, A young Kaag was an avowed\\nNietzeche acolyte but given he ravages of\\nresponsi and adulthood. the wre pt\\nhis affinity totest by undertaking physically\\nsuring hikes trough the As, revising\\naunts that the posopher escaped.\\nearch of solitude and save. The journeys\\nSemands, coupled with his ow inner trol.\\n‘re catnip for anybody feoing terse\\n\\n \\n\\nve'"
      ]
     },
     "execution_count": 8,
     "metadata": {},
     "output_type": "execute_result"
    }
   ],
   "source": [
    "img=cv2.imread(directory+\"nlp2.png\")\n",
    "result = pytesseract.image_to_string(img, lang=\"eng\")\n",
    "result"
   ]
  },
  {
   "cell_type": "code",
   "execution_count": 9,
   "metadata": {},
   "outputs": [
    {
     "data": {
      "text/plain": [
       "'er\\n\\nSean ee\\nneta terses tng to ats\\nmatics\\n\\nThe sacs entation precedes\\ncreche rains end Ras amar\\nsting com evryowe oes\\nSaraciersiort meetin\\nsrc toes contra A aol\\n(ree ates Inte =\\nrecent vores mage te cae at 8s\\n‘be Scardavan rest hathadcookedhis\\n\\nernfesarcour How erga\\nWter travels anexereaein negotiation,\\n\\neh them. Take one Val scoring pom:\\nthewnterwarrobe, wich tres cic and'"
      ]
     },
     "execution_count": 9,
     "metadata": {},
     "output_type": "execute_result"
    }
   ],
   "source": [
    "img=cv2.imread(directory+\"nlp3.png\")\n",
    "result = pytesseract.image_to_string(img, lang=\"eng\")\n",
    "result"
   ]
  },
  {
   "cell_type": "code",
   "execution_count": null,
   "metadata": {},
   "outputs": [],
   "source": []
  },
  {
   "cell_type": "code",
   "execution_count": null,
   "metadata": {},
   "outputs": [],
   "source": []
  },
  {
   "cell_type": "code",
   "execution_count": null,
   "metadata": {},
   "outputs": [],
   "source": []
  },
  {
   "cell_type": "code",
   "execution_count": 76,
   "metadata": {
    "scrolled": true
   },
   "outputs": [
    {
     "name": "stdout",
     "output_type": "stream",
     "text": [
      "compasses1.PNG\n",
      "compasses2.PNG\n"
     ]
    }
   ],
   "source": [
    "infoimg={}\n",
    "for i in x:\n",
    "    if i.startswith(\"compasses\"):\n",
    "        "
   ]
  },
  {
   "cell_type": "code",
   "execution_count": 81,
   "metadata": {},
   "outputs": [],
   "source": [
    "for i in infoimg.keys():\n",
    "    with open(directory+i[:-4]+\".txt\", 'w',encoding='UTF-8') as f:\n",
    "        f.write(infoimg[i])\n",
    "        f.close()"
   ]
  },
  {
   "cell_type": "code",
   "execution_count": 79,
   "metadata": {},
   "outputs": [
    {
     "data": {
      "text/plain": [
       "\"Surveyors Compass\\n\\n= Box with center point\\n= Magnetized Needle\\n= Lift needle\\n= Blade Sights\\n= Level tubes\\n= Base\\n= Jacob's staff\\n= Tripod\""
      ]
     },
     "execution_count": 79,
     "metadata": {},
     "output_type": "execute_result"
    }
   ],
   "source": [
    "infoimg['compasses1.PNG']"
   ]
  },
  {
   "cell_type": "code",
   "execution_count": 78,
   "metadata": {},
   "outputs": [
    {
     "data": {
      "text/plain": [
       "'Falcon_7X-Air_Cond_and_Press8.JPG'"
      ]
     },
     "execution_count": 78,
     "metadata": {},
     "output_type": "execute_result"
    }
   ],
   "source": [
    "i"
   ]
  },
  {
   "cell_type": "code",
   "execution_count": 80,
   "metadata": {},
   "outputs": [
    {
     "data": {
      "text/plain": [
       "dict_keys(['compasses1.PNG', 'compasses2.PNG'])"
      ]
     },
     "execution_count": 80,
     "metadata": {},
     "output_type": "execute_result"
    }
   ],
   "source": [
    "infoimg.keys()"
   ]
  },
  {
   "cell_type": "code",
   "execution_count": null,
   "metadata": {},
   "outputs": [],
   "source": []
  }
 ],
 "metadata": {
  "kernelspec": {
   "display_name": "Python 3",
   "language": "python",
   "name": "python3"
  },
  "language_info": {
   "codemirror_mode": {
    "name": "ipython",
    "version": 3
   },
   "file_extension": ".py",
   "mimetype": "text/x-python",
   "name": "python",
   "nbconvert_exporter": "python",
   "pygments_lexer": "ipython3",
   "version": "3.6.5"
  }
 },
 "nbformat": 4,
 "nbformat_minor": 2
}
