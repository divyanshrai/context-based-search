{
 "cells": [
  {
   "cell_type": "code",
   "execution_count": 30,
   "metadata": {},
   "outputs": [],
   "source": [
    "import json\n",
    "import os\n",
    "from collections import defaultdict\n",
    "\n",
    "import gensim\n",
    "from gensim.models.doc2vec import Doc2Vec\n",
    "from gensim.summarization import summarize\n",
    "\n",
    "import math\n",
    "import operator\n",
    "import numpy as np\n",
    "from nltk import word_tokenize,sent_tokenize,pos_tag\n"
   ]
  },
  {
   "cell_type": "code",
   "execution_count": 31,
   "metadata": {},
   "outputs": [],
   "source": [
    "def read_data(file_name):\n",
    "    with open(file_name,'r',encoding=\"utf8\") as f:\n",
    "        word_vocab = set() # not using list to avoid duplicate entry\n",
    "        word2vector = {}\n",
    "        for line in f:\n",
    "            line_ = line.strip() #Remove white space\n",
    "            words_Vec = line_.split()\n",
    "            word_vocab.add(words_Vec[0])\n",
    "            word2vector[words_Vec[0]] = np.array(words_Vec[1:],dtype=float)\n",
    "    print(\"Total Words in DataSet:\",len(word_vocab))\n",
    "    return word_vocab,word2vector"
   ]
  },
  {
   "cell_type": "code",
   "execution_count": 32,
   "metadata": {},
   "outputs": [
    {
     "name": "stdout",
     "output_type": "stream",
     "text": [
      "Total Words in DataSet: 400000\n"
     ]
    }
   ],
   "source": [
    "totalvocab, w2v = read_data(\"D:/Deep learning/pretrainedmodels/Glove vectors/glove.6B.50d.txt\")"
   ]
  },
  {
   "cell_type": "code",
   "execution_count": 5,
   "metadata": {},
   "outputs": [],
   "source": [
    "json_data=open(\"D:/Hacks/Wehack3/test data/compresseddict.json\").read()\n",
    "\n",
    "compresseddict = json.loads(json_data)"
   ]
  },
  {
   "cell_type": "code",
   "execution_count": 6,
   "metadata": {},
   "outputs": [],
   "source": [
    "with open(\"D:/Hacks/Wehack3/test data/vocab.txt\", 'r',encoding='UTF-8') as f:\n",
    "    vocab = [line.rstrip('\\n') for line in f]"
   ]
  },
  {
   "cell_type": "code",
   "execution_count": 7,
   "metadata": {},
   "outputs": [
    {
     "data": {
      "text/plain": [
       "(942, 942)"
      ]
     },
     "execution_count": 7,
     "metadata": {},
     "output_type": "execute_result"
    }
   ],
   "source": [
    "len(vocab),len(compresseddict.keys())"
   ]
  },
  {
   "cell_type": "code",
   "execution_count": 33,
   "metadata": {},
   "outputs": [
    {
     "data": {
      "text/plain": [
       "array([ 0.88387  , -0.14199  ,  0.13566  ,  0.098682 ,  0.51218  ,\n",
       "        0.49138  , -0.47155  , -0.30742  ,  0.01963  ,  0.12686  ,\n",
       "        0.073524 ,  0.35836  , -0.60874  , -0.18676  ,  0.78935  ,\n",
       "        0.54534  ,  0.1106   , -0.2923   ,  0.059041 , -0.69551  ,\n",
       "       -0.18804  ,  0.19455  ,  0.32269  , -0.49981  ,  0.306    ,\n",
       "       -2.3902   , -0.60749  ,  0.37107  ,  0.078912 , -0.23896  ,\n",
       "        3.839    , -0.20355  , -0.35613  , -0.69185  , -0.17497  ,\n",
       "       -0.35323  ,  0.10598  , -0.039303 ,  0.015701 ,  0.038279 ,\n",
       "       -0.35283  ,  0.44882  , -0.16534  ,  0.31579  ,  0.14963  ,\n",
       "       -0.071277 , -0.53506  ,  0.52711  , -0.20148  ,  0.0095952])"
      ]
     },
     "execution_count": 33,
     "metadata": {},
     "output_type": "execute_result"
    }
   ],
   "source": [
    "w2v['that']"
   ]
  },
  {
   "cell_type": "code",
   "execution_count": null,
   "metadata": {},
   "outputs": [],
   "source": [
    "w2v['taiwan']"
   ]
  },
  {
   "cell_type": "code",
   "execution_count": null,
   "metadata": {},
   "outputs": [],
   "source": []
  },
  {
   "cell_type": "code",
   "execution_count": 36,
   "metadata": {},
   "outputs": [
    {
     "data": {
      "text/plain": [
       "[('mexico', 'NN'), ('that', 'WDT'), ('which', 'WDT')]"
      ]
     },
     "execution_count": 36,
     "metadata": {},
     "output_type": "execute_result"
    }
   ],
   "source": [
    "q=\"brazil that which\"#stockpile->ingredient\n",
    "q=word_tokenize(q.lower())\n",
    "\n",
    "for i in range(0,len(q)):\n",
    "    replace=\"\"\n",
    "    mindist=1000\n",
    "    if q[i].lower() not in vocab:\n",
    "        vec1=w2v[q[i]]\n",
    "        for j in vocab:\n",
    "            if j in totalvocab:\n",
    "                vec2=w2v[j]\n",
    "                dist = np.linalg.norm(vec1-vec2)\n",
    "                if dist<mindist:\n",
    "                    mindist=dist\n",
    "                    replace=j\n",
    "        q[i]=replace\n",
    "\n",
    "\n",
    "x=pos_tag(q)\n",
    "x"
   ]
  },
  {
   "cell_type": "code",
   "execution_count": 37,
   "metadata": {},
   "outputs": [],
   "source": [
    "directory=\"D:/Hacks/Wehack3//test data/test_sid/\"\n",
    "namesofdoc=os.listdir(directory)\n",
    "\n",
    "alpha=0.80\n",
    "totaldocs=len(namesofdoc)\n",
    "\n",
    "inv_indx = defaultdict(list)"
   ]
  },
  {
   "cell_type": "code",
   "execution_count": null,
   "metadata": {},
   "outputs": [],
   "source": []
  },
  {
   "cell_type": "code",
   "execution_count": 38,
   "metadata": {},
   "outputs": [],
   "source": [
    "######## SEARCH #######\n",
    "dictofdoc={}\n",
    "listofdoc=[]\n",
    "\n",
    "for i in namesofdoc:\n",
    "    dictofdoc[i]=0\n",
    "\n",
    "\n",
    "for i in namesofdoc:\n",
    "    dictofdoc[i]=0\n",
    "    listofdoc.append(i)\n",
    "\n",
    "for i in x: \n",
    "    info=compresseddict[i[0].lower()]\n",
    "    #finding number of documents query word is in\n",
    "    numberofdocs=0\n",
    "    numofdocsnocontext=0\n",
    "    docs_counted=[]\n",
    "    docs_nocontext_counted=[]\n",
    "    listofdoc2=[]\n",
    "    for j in info:     #j has POStag,docn,number\n",
    "        listofdoc2.append(j[1])\n",
    "        if j[0]==i[1]: #matches context\n",
    "            if j[1] not in docs_counted: #to see whether or not the doc is already counted\n",
    "                docs_counted.append(j[1])\n",
    "                numberofdocs=numberofdocs+1\n",
    "        else:\n",
    "            if j[1] not in docs_counted: #to see whether or not the doc is already counted\n",
    "                docs_nocontext_counted.append(j[1])\n",
    "                numofdocsnocontext=numofdocsnocontext+1\n",
    "    listofdoc=list(set(listofdoc).intersection(set(listofdoc2)))\n",
    "            \n",
    "            \n",
    "    \n",
    "    for j in info:     #j has POStag,docn,number\n",
    "        try:\n",
    "            if j[0]==i[1]: #matches context\n",
    "                dictofdoc[j[1]]=dictofdoc[j[1]]+(alpha*j[2]*math.log10((totaldocs+1)/numberofdocs))\n",
    "\n",
    "            else: #context not matched\n",
    "                noncontext_match=j[2]\n",
    "                dictofdoc[j[1]]=dictofdoc[j[1]]+((1-alpha)*j[2]*math.log10((totaldocs+1)/numofdocsnocontext))\n",
    "        except:\n",
    "            continue\n",
    "\n",
    "\n",
    "for i in listofdoc:\n",
    "    dictofdoc[i]=dictofdoc[i]*15"
   ]
  },
  {
   "cell_type": "code",
   "execution_count": 39,
   "metadata": {
    "scrolled": true
   },
   "outputs": [],
   "source": [
    "sortedd = sorted(dictofdoc.items(), key=operator.itemgetter(1))"
   ]
  },
  {
   "cell_type": "code",
   "execution_count": 40,
   "metadata": {},
   "outputs": [
    {
     "data": {
      "text/plain": [
       "[('hackathon.txt', 0.07752801040644514),\n",
       " ('japan_stock.txt', 0.07752801040644514),\n",
       " ('modi-japan-trip.txt', 0.07752801040644514),\n",
       " ('modi.txt', 0.07752801040644514),\n",
       " ('usa.txt', 0.21732201127364886),\n",
       " ('programming.txt', 0.3183520069376301),\n",
       " ('Japan.txt', 0.5779837768065879),\n",
       " ('ainme.txt', 0.7096072645122777),\n",
       " ('choclate.txt', 9.198030429265861)]"
      ]
     },
     "execution_count": 40,
     "metadata": {},
     "output_type": "execute_result"
    }
   ],
   "source": [
    "sortedd"
   ]
  },
  {
   "cell_type": "code",
   "execution_count": null,
   "metadata": {},
   "outputs": [],
   "source": []
  },
  {
   "cell_type": "code",
   "execution_count": null,
   "metadata": {},
   "outputs": [],
   "source": []
  },
  {
   "cell_type": "code",
   "execution_count": null,
   "metadata": {},
   "outputs": [],
   "source": []
  },
  {
   "cell_type": "code",
   "execution_count": 13,
   "metadata": {},
   "outputs": [],
   "source": [
    "listtop5=[]\n",
    "for i in range(1,len(sortedd)):\n",
    "    listtop5.append(sortedd[-i][0])\n",
    "    if i==5:\n",
    "        break"
   ]
  },
  {
   "cell_type": "code",
   "execution_count": 14,
   "metadata": {},
   "outputs": [
    {
     "data": {
      "text/plain": [
       "['ainme.txt', 'Japan.txt', 'choclate.txt', 'programming.txt', 'usa.txt']"
      ]
     },
     "execution_count": 14,
     "metadata": {},
     "output_type": "execute_result"
    }
   ],
   "source": [
    "listtop5"
   ]
  },
  {
   "cell_type": "code",
   "execution_count": null,
   "metadata": {},
   "outputs": [],
   "source": []
  },
  {
   "cell_type": "code",
   "execution_count": null,
   "metadata": {},
   "outputs": [],
   "source": []
  },
  {
   "cell_type": "code",
   "execution_count": 72,
   "metadata": {},
   "outputs": [
    {
     "ename": "NameError",
     "evalue": "name 'images' is not defined",
     "output_type": "error",
     "traceback": [
      "\u001b[1;31m---------------------------------------------------------------------------\u001b[0m",
      "\u001b[1;31mNameError\u001b[0m                                 Traceback (most recent call last)",
      "\u001b[1;32m<ipython-input-72-2f7d25ee4b24>\u001b[0m in \u001b[0;36m<module>\u001b[1;34m()\u001b[0m\n\u001b[0;32m     11\u001b[0m             \u001b[0ms\u001b[0m\u001b[1;33m=\u001b[0m\u001b[0mf\u001b[0m\u001b[1;33m.\u001b[0m\u001b[0mread\u001b[0m\u001b[1;33m(\u001b[0m\u001b[1;33m)\u001b[0m\u001b[1;33m\u001b[0m\u001b[0m\n\u001b[0;32m     12\u001b[0m     \u001b[0mlistofimg\u001b[0m\u001b[1;33m=\u001b[0m\u001b[1;33m[\u001b[0m\u001b[1;33m]\u001b[0m\u001b[1;33m\u001b[0m\u001b[0m\n\u001b[1;32m---> 13\u001b[1;33m     \u001b[1;32mfor\u001b[0m \u001b[0mj\u001b[0m \u001b[1;32min\u001b[0m \u001b[0mimages\u001b[0m\u001b[1;33m:\u001b[0m\u001b[1;33m\u001b[0m\u001b[0m\n\u001b[0m\u001b[0;32m     14\u001b[0m         \u001b[1;32mif\u001b[0m \u001b[0mj\u001b[0m\u001b[1;33m.\u001b[0m\u001b[0mstartswith\u001b[0m\u001b[1;33m(\u001b[0m\u001b[0mi\u001b[0m\u001b[1;33m[\u001b[0m\u001b[1;33m:\u001b[0m\u001b[1;33m-\u001b[0m\u001b[1;36m4\u001b[0m\u001b[1;33m]\u001b[0m\u001b[1;33m)\u001b[0m\u001b[1;33m:\u001b[0m\u001b[1;33m\u001b[0m\u001b[0m\n\u001b[0;32m     15\u001b[0m             \u001b[0mlistofimg\u001b[0m\u001b[1;33m.\u001b[0m\u001b[0mappend\u001b[0m\u001b[1;33m(\u001b[0m\u001b[0mj\u001b[0m\u001b[1;33m)\u001b[0m\u001b[1;33m\u001b[0m\u001b[0m\n",
      "\u001b[1;31mNameError\u001b[0m: name 'images' is not defined"
     ]
    }
   ],
   "source": [
    "#for images calssified with tessearct, DO NOT RUN!!\n",
    "\n",
    "\n",
    "sendtonid={}\n",
    "for i in listtop5:\n",
    "    try:\n",
    "        with open(directory+i, 'r',encoding='UTF-8') as f:\n",
    "            s=f.read()\n",
    "    except:\n",
    "        with open(directory+i, 'r') as f:\n",
    "            s=f.read()\n",
    "    listofimg=[]\n",
    "    for j in images:\n",
    "        if j.startswith(i[:-4]):\n",
    "            listofimg.append(j)\n",
    "    if len(listofimg)==0:\n",
    "        listofimg=\"k.jpg\"\n",
    "    sendtonid[i]=[summarize(s),listofimg,i]"
   ]
  },
  {
   "cell_type": "code",
   "execution_count": null,
   "metadata": {},
   "outputs": [],
   "source": []
  },
  {
   "cell_type": "code",
   "execution_count": null,
   "metadata": {},
   "outputs": [],
   "source": []
  },
  {
   "cell_type": "code",
   "execution_count": null,
   "metadata": {},
   "outputs": [],
   "source": []
  },
  {
   "cell_type": "code",
   "execution_count": null,
   "metadata": {},
   "outputs": [],
   "source": []
  }
 ],
 "metadata": {
  "kernelspec": {
   "display_name": "Python 3",
   "language": "python",
   "name": "python3"
  },
  "language_info": {
   "codemirror_mode": {
    "name": "ipython",
    "version": 3
   },
   "file_extension": ".py",
   "mimetype": "text/x-python",
   "name": "python",
   "nbconvert_exporter": "python",
   "pygments_lexer": "ipython3",
   "version": "3.6.5"
  }
 },
 "nbformat": 4,
 "nbformat_minor": 2
}
