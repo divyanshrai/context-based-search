{
 "cells": [
  {
   "cell_type": "code",
   "execution_count": 1,
   "metadata": {},
   "outputs": [],
   "source": [
    "from nltk.tokenize import word_tokenize, sent_tokenize\n",
    "from nltk import pos_tag\n",
    "\n",
    "\n",
    "import json\n",
    "from collections import defaultdict\n",
    "import operator\n",
    "\n",
    "import time\n",
    "import math\n",
    "import os\n",
    "import sys\n",
    "import numpy as np"
   ]
  },
  {
   "cell_type": "code",
   "execution_count": 2,
   "metadata": {},
   "outputs": [],
   "source": [
    "directory=\"D:/Hacks/Wehack3/test data/test_sid\"\n",
    "namesofdoc=os.listdir(directory)\n",
    "\n",
    "\n",
    "alpha=0.8\n",
    "totaldocs=len(namesofdoc)"
   ]
  },
  {
   "cell_type": "code",
   "execution_count": 3,
   "metadata": {},
   "outputs": [],
   "source": [
    "def read_data(file_name):\n",
    "    with open(file_name,'r',encoding=\"utf8\") as f:\n",
    "        word_vocab = set() # not using list to avoid duplicate entry\n",
    "        word2vector = {}\n",
    "        for line in f:\n",
    "            line_ = line.strip() #Remove white space\n",
    "            words_Vec = line_.split()\n",
    "            word_vocab.add(words_Vec[0])\n",
    "            word2vector[words_Vec[0]] = np.array(words_Vec[1:],dtype=float)\n",
    "    print(\"Total Words in DataSet:\",len(word_vocab))\n",
    "    return word_vocab,word2vector"
   ]
  },
  {
   "cell_type": "code",
   "execution_count": 4,
   "metadata": {},
   "outputs": [
    {
     "name": "stdout",
     "output_type": "stream",
     "text": [
      "Total Words in DataSet: 400000\n"
     ]
    }
   ],
   "source": [
    "totalvocab, w2v = read_data(\"D:/Deep learning/pretrainedmodels/Glove vectors/glove.6B.50d.txt\")"
   ]
  },
  {
   "cell_type": "code",
   "execution_count": 5,
   "metadata": {},
   "outputs": [
    {
     "data": {
      "text/plain": [
       "array([ 0.057698, -0.51301 , -0.82971 ,  0.12021 , -0.011328,  1.3302  ,\n",
       "       -1.2556  , -0.69629 ,  1.3744  , -0.099878,  0.574   , -0.3794  ,\n",
       "        1.1517  , -0.78459 ,  0.28165 ,  0.73153 ,  0.26163 ,  1.3838  ,\n",
       "        0.36276 , -0.27118 ,  1.0038  , -0.9954  ,  0.30433 ,  0.59716 ,\n",
       "       -0.75876 , -0.79112 , -0.077779,  0.49264 ,  0.24474 ,  0.19268 ,\n",
       "        1.5655  , -0.17366 ,  0.3011  ,  1.1682  ,  0.038647, -0.31717 ,\n",
       "       -0.77932 ,  0.97368 ,  1.1681  ,  0.051528, -0.54678 , -0.69576 ,\n",
       "        0.083017,  0.047535,  1.5585  ,  0.5962  , -1.2497  ,  0.18596 ,\n",
       "        0.46701 , -0.20585 ])"
      ]
     },
     "execution_count": 5,
     "metadata": {},
     "output_type": "execute_result"
    }
   ],
   "source": [
    "w2v[\"dairy\"]"
   ]
  },
  {
   "cell_type": "code",
   "execution_count": null,
   "metadata": {},
   "outputs": [],
   "source": []
  },
  {
   "cell_type": "code",
   "execution_count": null,
   "metadata": {},
   "outputs": [],
   "source": []
  },
  {
   "cell_type": "code",
   "execution_count": 6,
   "metadata": {},
   "outputs": [],
   "source": [
    "#json_data=open(\"D:/Hacks/Wehack3/freqwords.json\").read()\n",
    "\n",
    "#freqwords = json.loads(json_data)\n"
   ]
  },
  {
   "cell_type": "code",
   "execution_count": 7,
   "metadata": {},
   "outputs": [],
   "source": [
    "json_data=open(\"D:/Hacks/Wehack3/compresseddict.json\").read()\n",
    "\n",
    "compresseddict = json.loads(json_data)\n"
   ]
  },
  {
   "cell_type": "code",
   "execution_count": 48,
   "metadata": {},
   "outputs": [
    {
     "data": {
      "text/plain": [
       "['taiwan']"
      ]
     },
     "execution_count": 48,
     "metadata": {},
     "output_type": "execute_result"
    }
   ],
   "source": [
    "q=\"taiwan\"\n",
    "q=word_tokenize(q)\n",
    "q"
   ]
  },
  {
   "cell_type": "code",
   "execution_count": 49,
   "metadata": {},
   "outputs": [],
   "source": [
    "with open(\"D:/Hacks/Wehack3/vocab.txt\", 'r',encoding='UTF-8') as f:\n",
    "    vocab = [line.rstrip('\\n') for line in f]"
   ]
  },
  {
   "cell_type": "code",
   "execution_count": 50,
   "metadata": {},
   "outputs": [],
   "source": [
    "for i in range(0,len(q)):\n",
    "    replace=\"\"\n",
    "    mindist=1000\n",
    "    if q[i].lower() not in vocab:\n",
    "        vec1=w2v[q[i]]\n",
    "        for j in vocab:\n",
    "            if j in totalvocab:\n",
    "                vec2=w2v[j]\n",
    "                dist = np.linalg.norm(vec1-vec2)\n",
    "                if dist<mindist:\n",
    "                    mindist=dist\n",
    "                    replace=j\n",
    "        q[i]=replace"
   ]
  },
  {
   "cell_type": "code",
   "execution_count": 51,
   "metadata": {},
   "outputs": [
    {
     "data": {
      "text/plain": [
       "[('china', 'NN')]"
      ]
     },
     "execution_count": 51,
     "metadata": {},
     "output_type": "execute_result"
    }
   ],
   "source": [
    "x=pos_tag(q)\n",
    "x"
   ]
  },
  {
   "cell_type": "code",
   "execution_count": null,
   "metadata": {},
   "outputs": [],
   "source": []
  },
  {
   "cell_type": "code",
   "execution_count": 52,
   "metadata": {},
   "outputs": [],
   "source": [
    "dictofdoc={}\n",
    "\n",
    "for i in namesofdoc:\n",
    "    dictofdoc[i]=0\n",
    "\n",
    "for i in x: \n",
    "    info=compresseddict[i[0].lower()]\n",
    "    #finding number of documents query word is in\n",
    "    numberofdocs=0\n",
    "    numofdocsnocontext=0\n",
    "    docs_counted=[]\n",
    "    docs_nocontext_counted=[]\n",
    "    for j in info:     #j has POStag,docn,number\n",
    "        if j[0]==i[1]: #matches context\n",
    "            if j[1] not in docs_counted: #to see whether or not the doc is already counted\n",
    "                docs_counted.append(j[1])\n",
    "                numberofdocs=numberofdocs+1\n",
    "        else:\n",
    "            if j[1] not in docs_counted: #to see whether or not the doc is already counted\n",
    "                docs_nocontext_counted.append(j[1])\n",
    "                numofdocsnocontext=numofdocsnocontext+1\n",
    "            \n",
    "            \n",
    "    \n",
    "    for j in info:     #j has POStag,docn,number\n",
    "        if j[0]==i[1]: #matches context\n",
    "            dictofdoc[j[1]]=dictofdoc[j[1]]+(alpha*j[2]*math.log10((totaldocs+1)/numberofdocs))\n",
    "            \n",
    "        else: #context not matched\n",
    "            noncontext_match=j[2]\n",
    "            dictofdoc[j[1]]=dictofdoc[j[1]]+((1-alpha)*j[2]*math.log10((totaldocs+1)/numofdocsnocontext))\n"
   ]
  },
  {
   "cell_type": "code",
   "execution_count": null,
   "metadata": {},
   "outputs": [],
   "source": []
  },
  {
   "cell_type": "code",
   "execution_count": null,
   "metadata": {},
   "outputs": [],
   "source": []
  },
  {
   "cell_type": "code",
   "execution_count": 53,
   "metadata": {},
   "outputs": [
    {
     "data": {
      "text/plain": [
       "[('ainme.txt', 0),\n",
       " ('choclate.txt', 0),\n",
       " ('hackathon.txt', 0),\n",
       " ('japan_stock.txt', 0),\n",
       " ('modi-japan-trip.txt', 0),\n",
       " ('modi.txt', 0),\n",
       " ('programming.txt', 0),\n",
       " ('usa.txt', 0),\n",
       " ('Japan.txt', 0.3999999999999999)]"
      ]
     },
     "execution_count": 53,
     "metadata": {},
     "output_type": "execute_result"
    }
   ],
   "source": [
    "sortedd = sorted(dictofdoc.items(), key=operator.itemgetter(1))\n",
    "sortedd"
   ]
  },
  {
   "cell_type": "code",
   "execution_count": null,
   "metadata": {},
   "outputs": [],
   "source": []
  }
 ],
 "metadata": {
  "kernelspec": {
   "display_name": "Python 3",
   "language": "python",
   "name": "python3"
  },
  "language_info": {
   "codemirror_mode": {
    "name": "ipython",
    "version": 3
   },
   "file_extension": ".py",
   "mimetype": "text/x-python",
   "name": "python",
   "nbconvert_exporter": "python",
   "pygments_lexer": "ipython3",
   "version": "3.6.5"
  }
 },
 "nbformat": 4,
 "nbformat_minor": 2
}
